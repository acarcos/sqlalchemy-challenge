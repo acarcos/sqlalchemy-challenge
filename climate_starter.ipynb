{
 "cells": [
  {
   "cell_type": "markdown",
   "metadata": {},
   "source": [
    "## Step 1 - Climate Analysis and Exploration"
   ]
  },
  {
   "cell_type": "markdown",
   "metadata": {},
   "source": [
    "* Choose a start date and end date for your trip. Make sure that your vacation range is approximately 3-15 days total."
   ]
  },
  {
   "cell_type": "code",
   "execution_count": null,
   "metadata": {},
   "outputs": [],
   "source": [
    "# import libraries\n",
    "%matplotlib notebook\n",
    "from matplotlib import style\n",
    "style.use('seaborn')\n",
    "import matplotlib.pyplot as plt\n",
    "import numpy as np\n",
    "import pandas as pd\n",
    "import datetime \n",
    "from dateutil import relativedelta"
   ]
  },
  {
   "cell_type": "markdown",
   "metadata": {},
   "source": [
    "#### Reflect Tables into SQLAlchemy ORM"
   ]
  },
  {
   "cell_type": "code",
   "execution_count": null,
   "metadata": {},
   "outputs": [],
   "source": [
    "# Python SQL toolkit and Object Relational Mapper.\n",
    "import sqlalchemy\n",
    "from sqlalchemy.ext.automap import automap_base\n",
    "from sqlalchemy.orm import Session\n",
    "from sqlalchemy import create_engine, func, inspect"
   ]
  },
  {
   "cell_type": "code",
   "execution_count": null,
   "metadata": {},
   "outputs": [],
   "source": [
    "# Create a connection to a SQLite database.\n",
    "engine = create_engine(\"sqlite:///Resources/hawaii.sqlite\")"
   ]
  },
  {
   "cell_type": "code",
   "execution_count": null,
   "metadata": {},
   "outputs": [],
   "source": [
    "# Reflect an existing database into a new model\n",
    "# the Base class reflect the database tables.\n",
    "Base = automap_base() \n",
    "Base.prepare(engine, reflect=True)"
   ]
  },
  {
   "cell_type": "code",
   "execution_count": null,
   "metadata": {},
   "outputs": [],
   "source": [
    "# We can view all of the classes that automap found\n",
    "# view as dictionaries.\n",
    "Base.classes.keys()"
   ]
  },
  {
   "cell_type": "code",
   "execution_count": null,
   "metadata": {},
   "outputs": [],
   "source": [
    "# Save references to each table.\n",
    "Climate_measure = Base.classes.measurement\n",
    "Climate_station = Base.classes.station"
   ]
  },
  {
   "cell_type": "code",
   "execution_count": null,
   "metadata": {},
   "outputs": [],
   "source": [
    "# Create our session (link) from Python to the DB.\n",
    "session = Session(engine)"
   ]
  },
  {
   "cell_type": "code",
   "execution_count": null,
   "metadata": {},
   "outputs": [],
   "source": [
    "# Visualization of how the data is stored in measurement dict...\n",
    "first_row = session.query(Climate_measure).first()\n",
    "first_row.__dict__"
   ]
  },
  {
   "cell_type": "code",
   "execution_count": null,
   "metadata": {},
   "outputs": [],
   "source": [
    "# And station dict.\n",
    "sec_row = session.query(Climate_station).first()\n",
    "sec_row.__dict__"
   ]
  },
  {
   "cell_type": "markdown",
   "metadata": {},
   "source": [
    "## Precipitation Analysis\n",
    "\n",
    "### Exploratory Climate Analysis\n",
    "\n",
    "* Design a query to retrieve the last 12 months of precipitation data and plot the results."
   ]
  },
  {
   "cell_type": "code",
   "execution_count": null,
   "metadata": {},
   "outputs": [],
   "source": [
    "# To get the last 12 months, we sort the date values,\n",
    "# get the first one found in the database and substract twelve months.\n",
    "last_date = session.query(Climate_measure.date).order_by(Climate_measure.date.desc()).first()\n",
    "# Changing the date format using 'strftime' and 'relativedelta'\n",
    "last_date_form = datetime.datetime.strptime(last_date[0],'%Y-%m-%d') # Last date stored\n",
    "months_ago = last_date_form - relativedelta.relativedelta(years=1) # Date 12 months ago\n",
    "months_ago_form = months_ago.strftime('%Y-%m-%d') "
   ]
  },
  {
   "cell_type": "code",
   "execution_count": null,
   "metadata": {},
   "outputs": [],
   "source": [
    "# Selecting only the 'date' and 'prcp' values.\n",
    "prcp_date = session.query(Climate_measure.date, Climate_measure.prcp).\\\n",
    "    order_by(Climate_measure.date.desc()).\\\n",
    "    group_by(Climate_measure.date).\\\n",
    "    filter(Climate_measure.date >= months_ago_form).all()\n",
    "\n",
    "prcp_date"
   ]
  },
  {
   "cell_type": "code",
   "execution_count": null,
   "metadata": {},
   "outputs": [],
   "source": [
    "# Load the query results into a Pandas DataFrame and set the index to the date column.\n",
    "# And dropping the None values.\n",
    "df_pcrp = pd.DataFrame(prcp_date, columns=['Date','Precipitation']).dropna()\n",
    "#df_pcrp"
   ]
  },
  {
   "cell_type": "code",
   "execution_count": null,
   "metadata": {},
   "outputs": [],
   "source": [
    "# Sort the dataframe by date.\n",
    "df_pcrp_sort = df_pcrp.sort_values(by=['Date']).set_index('Date')\n",
    "df_pcrp_sort"
   ]
  },
  {
   "cell_type": "code",
   "execution_count": null,
   "metadata": {
    "scrolled": false
   },
   "outputs": [],
   "source": [
    "# New dataframe with non_zero values\n",
    "df_nonzeros = df_pcrp_sort[df_pcrp_sort['Precipitation'] > 0.0]\n",
    "\n",
    "# Use Pandas Plotting with Matplotlib to plot the data.\n",
    "ax = df_nonzeros.plot.bar(title= \"Data Precipitation per Date\")\n",
    "plt.ylabel('Inches')\n",
    "plt.xticks(rotation = 'vertical', fontsize=3, ha='right')\n",
    "plt.tight_layout()"
   ]
  },
  {
   "cell_type": "code",
   "execution_count": null,
   "metadata": {},
   "outputs": [],
   "source": [
    "# Use Pandas to calcualte the summary statistics for the precipitation data.\n",
    "df_pcrp_sort.describe()"
   ]
  },
  {
   "cell_type": "markdown",
   "metadata": {},
   "source": [
    "## Station Analysis\n",
    "\n",
    "### Design a query to calculate the total number of stations.\n",
    "\n",
    "* Design a query to find the most active stations."
   ]
  },
  {
   "cell_type": "code",
   "execution_count": null,
   "metadata": {},
   "outputs": [],
   "source": [
    "# What are the most active stations? (i.e. what stations have the most rows)?\n",
    "# List the stations in descending order.\n",
    "stations_num = [Climate_measure.station, func.count(Climate_measure.station)]\n",
    "count_station = session.query(*stations_num).\\\n",
    "    group_by(Climate_measure.station).\\\n",
    "    order_by(func.count(Climate_measure.station).desc()).all()\n",
    "count_station"
   ]
  },
  {
   "cell_type": "code",
   "execution_count": null,
   "metadata": {},
   "outputs": [],
   "source": [
    "# Getting the station with more info\n",
    "high_station = count_station[0][0]\n",
    "high_station"
   ]
  },
  {
   "cell_type": "code",
   "execution_count": null,
   "metadata": {},
   "outputs": [],
   "source": [
    "# Using the station id from the previous query, calculate the lowest temperature recorded, \n",
    "# highest temperature recorded, and average temperature of the most active station\n",
    "max_temp = session.query(Climate_measure.station, func.max(Climate_measure.tobs)).\\\n",
    "            group_by(Climate_measure.station).\\\n",
    "            filter(Climate_measure.station == high_station).all()\n",
    "\n",
    "min_temp = session.query(Climate_measure.station, func.min(Climate_measure.tobs)).\\\n",
    "            group_by(Climate_measure.station).\\\n",
    "            filter(Climate_measure.station == high_station).all()\n",
    "\n",
    "avg_temp = session.query(Climate_measure.station, func.avg(Climate_measure.tobs)).\\\n",
    "            group_by(Climate_measure.id).\\\n",
    "            filter(Climate_measure.station == high_station).all()\n",
    "\n",
    "# Display information\n",
    "print(f\"Minimum temperature calculated was {min_temp[0][1]} from station {min_temp[0][0]}.\")\n",
    "print(f\"Maximum temperature calculated was {max_temp[0][1]} from station {max_temp[0][0]}.\")\n",
    "print(f\"Average temperature was {avg_temp[0][1]} from station {avg_temp[0][0]}.\")"
   ]
  },
  {
   "cell_type": "markdown",
   "metadata": {},
   "source": [
    "* Query the last 12 months of temperature observation data for this station and plot the results as a histogram."
   ]
  },
  {
   "cell_type": "code",
   "execution_count": null,
   "metadata": {},
   "outputs": [],
   "source": [
    "# Design a query to retrieve the last 12 months of temperature observation data (TOBS).\n",
    "# Filter by the station with the highest number of observations.\n",
    "high_temps = session.query(Climate_measure.station, Climate_measure.date, Climate_measure.tobs).\\\n",
    "    order_by(Climate_measure.date.desc()).\\\n",
    "    filter(Climate_measure.station == high_station).all()\n",
    "high_temps"
   ]
  },
  {
   "cell_type": "code",
   "execution_count": null,
   "metadata": {},
   "outputs": [],
   "source": [
    "# Getting the last 12 months and changing the date format\n",
    "temps_date_form = datetime.datetime.strptime(high_temps[0][1],'%Y-%m-%d')\n",
    "temps_months_ago = temps_date_form - relativedelta.relativedelta(years=1)\n",
    "temps_ago_form = temps_months_ago.strftime('%Y-%m-%d')"
   ]
  },
  {
   "cell_type": "code",
   "execution_count": null,
   "metadata": {},
   "outputs": [],
   "source": [
    "# Getting the data points from last 12 months\n",
    "temps_date = session.query(Climate_measure.date, Climate_measure.tobs).\\\n",
    "    order_by(Climate_measure.date.desc()).\\\n",
    "    filter(Climate_measure.date >= temps_ago_form).\\\n",
    "    filter(Climate_measure.station == high_station).all()\n",
    "temps_date"
   ]
  },
  {
   "cell_type": "code",
   "execution_count": null,
   "metadata": {},
   "outputs": [],
   "source": [
    "# Plot the results as a histogram with bins=12\n",
    "# First Pandas DF\n",
    "df_temps_date = pd.DataFrame(temps_date, columns=['Date', 'Temperature']).set_index('Date')\n",
    "df_temps_date"
   ]
  },
  {
   "cell_type": "code",
   "execution_count": null,
   "metadata": {},
   "outputs": [],
   "source": [
    "# Plotting histogram\n",
    "df_temps_date.plot.hist(bins=12,legend=False, title='Temperature Distribution of Station ' + high_station, color='darkblue')\n",
    "plt.xlabel('Temperature')\n",
    "plt.tight_layout()"
   ]
  },
  {
   "cell_type": "code",
   "execution_count": null,
   "metadata": {},
   "outputs": [],
   "source": []
  }
 ],
 "metadata": {
  "kernelspec": {
   "display_name": "Python 3.7.4 64-bit ('base': conda)",
   "language": "python",
   "name": "python37464bitbasecondaf8a42dbeb68b43b8ab181bef94341f6a"
  },
  "language_info": {
   "codemirror_mode": {
    "name": "ipython",
    "version": 3
   },
   "file_extension": ".py",
   "mimetype": "text/x-python",
   "name": "python",
   "nbconvert_exporter": "python",
   "pygments_lexer": "ipython3",
   "version": "3.7.4"
  }
 },
 "nbformat": 4,
 "nbformat_minor": 2
}
